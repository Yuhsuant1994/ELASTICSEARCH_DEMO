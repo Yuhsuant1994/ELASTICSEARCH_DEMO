{
 "cells": [
  {
   "cell_type": "code",
   "execution_count": 1,
   "id": "1d03f066",
   "metadata": {},
   "outputs": [],
   "source": [
    "\n",
    "import pandas as pd\n",
    "from settings import INPUT_DATA_PATH, EMBEDDING_MODEL, INDEX_NAME\n",
    "from src.logs import logger\n",
    "df = pd.read_csv(INPUT_DATA_PATH)\n"
   ]
  },
  {
   "cell_type": "code",
   "execution_count": 2,
   "id": "baab4207",
   "metadata": {},
   "outputs": [
    {
     "name": "stderr",
     "output_type": "stream",
     "text": [
      "/opt/homebrew/lib/python3.11/site-packages/tqdm/auto.py:21: TqdmWarning: IProgress not found. Please update jupyter and ipywidgets. See https://ipywidgets.readthedocs.io/en/stable/user_install.html\n",
      "  from .autonotebook import tqdm as notebook_tqdm\n"
     ]
    }
   ],
   "source": [
    "from sentence_transformers import SentenceTransformer\n",
    "\n",
    "embedding_model = SentenceTransformer(EMBEDDING_MODEL)"
   ]
  },
  {
   "cell_type": "markdown",
   "id": "29cc843e",
   "metadata": {},
   "source": [
    "# Building index\n",
    "\n",
    "1. settings / mappings\n",
    "2. ingest data code\n",
    "3. synonyms: add volumn to docker file\n",
    "4. show UI index management -> explorer to see the documents\n",
    "5. Query on UI: normal query, synonyms\n",
    "6. Query on python: normal query, terms id, multi search, vector search\n",
    "\n",
    "##### update policy\n",
    "##### alias"
   ]
  },
  {
   "cell_type": "code",
   "execution_count": 3,
   "id": "8beb5ca7",
   "metadata": {},
   "outputs": [
    {
     "name": "stderr",
     "output_type": "stream",
     "text": [
      "[nltk_data] Downloading package punkt_tab to\n",
      "[nltk_data]     /Users/yuhsuanting/nltk_data...\n",
      "[nltk_data]   Unzipping tokenizers/punkt_tab.zip.\n",
      "[nltk_data] Downloading package stopwords to\n",
      "[nltk_data]     /Users/yuhsuanting/nltk_data...\n",
      "[nltk_data]   Package stopwords is already up-to-date!\n",
      "[nltk_data] Downloading package wordnet to\n",
      "[nltk_data]     /Users/yuhsuanting/nltk_data...\n",
      "[nltk_data]   Package wordnet is already up-to-date!\n"
     ]
    }
   ],
   "source": [
    "# %reload_ext autoreload\n",
    "# %autoreload 2\n",
    "from src.utils import split_data_chunk"
   ]
  },
  {
   "cell_type": "code",
   "execution_count": 4,
   "id": "464aa8e7",
   "metadata": {},
   "outputs": [
    {
     "name": "stderr",
     "output_type": "stream",
     "text": [
      "huggingface/tokenizers: The current process just got forked, after parallelism has already been used. Disabling parallelism to avoid deadlocks...\n",
      "To disable this warning, you can either:\n",
      "\t- Avoid using `tokenizers` before the fork if possible\n",
      "\t- Explicitly set the environment variable TOKENIZERS_PARALLELISM=(true | false)\n"
     ]
    }
   ],
   "source": [
    "full_data = []\n",
    "for index, row in df.iterrows():\n",
    "    current_batch = split_data_chunk(embedding_model=embedding_model,row_data=row)\n",
    "    full_data.extend(current_batch)"
   ]
  },
  {
   "cell_type": "code",
   "execution_count": 5,
   "id": "7de520d5",
   "metadata": {},
   "outputs": [
    {
     "data": {
      "text/plain": [
       "400"
      ]
     },
     "execution_count": 5,
     "metadata": {},
     "output_type": "execute_result"
    }
   ],
   "source": [
    "len(full_data)"
   ]
  },
  {
   "cell_type": "code",
   "execution_count": 6,
   "id": "bfdc11e6",
   "metadata": {},
   "outputs": [
    {
     "data": {
      "text/plain": [
       "{'product_description': \"Nike Air Force 1 '07 part 1: doesnt get legendary designed turn head nike air force 1 07 cross hardwood comfort offcourt flair crisp leather upper look sleek fresh lustrous swoosh logo give almost iridescent look add perfect amount flash make shine consider slam dunk\",\n",
       " 'id': 'C0UZQQIYM7_1',\n",
       " 'title': \"Nike Air Force 1 '07\",\n",
       " 'subtitle': \"Men's Shoes\",\n",
       " 'product_id': 'C0UZQQIYM7',\n",
       " 'embedded_product_description': array([ 1.91667620e-02, -2.45630071e-02, -1.29681057e-03,  3.28077786e-02,\n",
       "         5.56558589e-05, -8.99029523e-03, -6.80366829e-02, -5.00352122e-03,\n",
       "        -2.24727613e-04, -3.03653460e-02,  2.57720277e-02,  6.81640133e-02,\n",
       "         3.34987529e-02,  8.51920545e-02,  3.39937210e-02,  5.19116260e-02,\n",
       "        -1.18538840e-02, -5.08263614e-03,  1.03366915e-02,  5.66853676e-04,\n",
       "         1.10639744e-02,  8.06545187e-03,  8.24122876e-03,  4.02045362e-02,\n",
       "         2.10054293e-02, -2.97298133e-02,  4.56043407e-02,  3.59699596e-03,\n",
       "        -3.48684229e-02, -2.11383291e-02,  1.47577627e-02,  3.73506956e-02,\n",
       "        -5.97088085e-03, -4.63602804e-02,  2.04507819e-06, -2.00741854e-03,\n",
       "         5.22653684e-02, -2.34407261e-02, -3.76125588e-03,  1.11197131e-02,\n",
       "         1.83827931e-03,  3.01138796e-02,  2.40569236e-04, -1.98265035e-02,\n",
       "        -4.10384052e-02, -2.56807283e-02, -2.45817397e-02,  4.67772484e-02,\n",
       "        -1.29132029e-02, -2.98627485e-02,  2.55175140e-02, -7.09245577e-02,\n",
       "         3.58509012e-02,  1.51601071e-02,  7.51834875e-03,  5.41656278e-02,\n",
       "        -1.10672014e-02, -2.55090985e-02, -2.11710017e-02, -6.88983360e-03,\n",
       "        -4.17075045e-02, -1.36623448e-02, -4.00752164e-02, -2.85335202e-02,\n",
       "         8.20507631e-02, -3.79234888e-02, -5.03256768e-02,  2.35294998e-02,\n",
       "        -2.18790341e-02,  1.77218206e-02, -5.94179742e-02,  8.27326253e-03,\n",
       "         2.65568006e-03,  3.50161195e-02,  1.92891527e-02, -5.43026961e-02,\n",
       "         2.70603690e-02, -5.33117317e-02,  5.56006702e-03, -6.16367087e-02,\n",
       "        -6.97068349e-02,  5.51409982e-02, -3.20087299e-02, -2.38891337e-02,\n",
       "         1.11213373e-03, -2.45267116e-02, -1.11151729e-02,  2.38410127e-03,\n",
       "         1.66182779e-02,  4.01626453e-02,  1.58129837e-02,  2.61197286e-03,\n",
       "        -1.86777618e-02, -1.68902352e-02, -3.55588868e-02, -9.74108744e-03,\n",
       "         2.94932090e-02,  9.34601994e-04,  1.17907068e-02, -2.95706689e-02,\n",
       "         1.06564105e-01,  3.05169262e-02,  7.05209449e-02, -9.47735086e-03,\n",
       "        -1.24326363e-01, -2.86882259e-02,  2.96765957e-02, -6.43447861e-02,\n",
       "        -3.64385024e-02,  4.84754816e-02, -2.12282930e-02,  2.02889647e-02,\n",
       "        -6.13083877e-02,  7.71211535e-02, -1.21987864e-01, -3.84185314e-02,\n",
       "        -1.47319706e-02, -1.29024591e-02,  2.00014561e-02,  2.58680638e-02,\n",
       "         1.00701554e-02,  3.39588895e-03,  2.54614148e-02, -1.19641107e-02,\n",
       "         2.21491084e-02, -8.76268819e-02, -2.78251246e-02,  1.61832124e-02,\n",
       "        -4.72282805e-03, -3.62214334e-02,  9.62435547e-03, -4.23638411e-02,\n",
       "        -2.10788976e-02,  1.49773555e-02, -1.52829243e-02,  5.92697822e-02,\n",
       "        -1.99885089e-02,  7.35567091e-03, -3.67272682e-02, -1.14972712e-02,\n",
       "        -6.16447441e-03,  3.27763818e-02, -3.61117162e-02, -1.94971857e-03,\n",
       "        -2.57225130e-02,  4.23396006e-03,  2.74540447e-02,  4.93853800e-02,\n",
       "        -6.04741229e-03, -4.12309058e-02,  4.78619337e-02,  7.33531127e-03,\n",
       "         2.89084837e-02,  1.02770058e-02, -3.32636312e-02, -2.37433575e-02,\n",
       "        -3.89946811e-02, -2.09275447e-02, -3.57908010e-02,  2.76704319e-02,\n",
       "         9.73326247e-03, -4.54074750e-03, -1.16998488e-02, -2.47999765e-02,\n",
       "        -3.07411347e-02, -3.16741467e-02, -1.73249338e-02,  2.22211427e-04,\n",
       "         9.39410739e-03, -8.60822666e-03, -5.75349480e-02, -3.35177593e-02,\n",
       "         2.17694417e-02,  1.95109546e-02,  3.53627168e-02, -4.08102237e-02,\n",
       "        -1.98622444e-03, -4.42721173e-02,  6.56794338e-03, -3.13398056e-02,\n",
       "        -1.23427967e-02, -9.75040197e-02,  6.50918558e-02, -2.37734355e-02,\n",
       "         2.16940395e-03,  7.36111542e-03, -5.39382100e-02,  4.09187935e-02,\n",
       "        -1.92747824e-02, -5.71275465e-02,  2.77582277e-02,  3.40620219e-03,\n",
       "        -3.42039913e-02,  1.53174056e-02,  2.08282308e-03, -6.97850715e-03,\n",
       "        -2.57291202e-03, -1.04711927e-03, -5.66152995e-03,  6.57292735e-03,\n",
       "        -8.07876363e-02,  7.47939153e-03,  6.67213649e-03,  9.47795808e-04,\n",
       "        -5.71335778e-02,  5.45120612e-02,  6.49761707e-02, -3.09975855e-02,\n",
       "        -8.42162594e-02,  1.34640615e-02,  1.83485970e-02,  1.71233919e-02,\n",
       "         2.33560838e-02, -2.07459852e-02,  1.09086586e-02, -6.23461790e-02,\n",
       "         8.04607123e-02,  1.36051895e-02, -6.06804267e-02,  2.29508262e-02,\n",
       "         5.93451224e-02,  4.16610017e-03, -1.08517660e-02, -2.34135501e-02,\n",
       "        -5.51778041e-02,  6.75130263e-02,  7.96774849e-02, -1.67028718e-02,\n",
       "         5.67336800e-03,  5.86714707e-02,  3.44257988e-02, -1.98076107e-02,\n",
       "        -2.60390118e-02, -3.13050039e-02,  2.16616448e-02, -2.51174774e-02,\n",
       "         4.38689105e-02,  2.27554403e-02, -3.03767063e-02, -3.61343808e-02,\n",
       "         9.21412185e-03,  7.13870255e-03,  2.49540303e-02, -2.42809430e-02,\n",
       "         1.53108640e-03,  3.70170064e-02,  1.27671257e-01, -2.19361437e-03,\n",
       "        -2.03698799e-02,  8.77346285e-03, -5.59227131e-02,  2.85585225e-02,\n",
       "         2.03677621e-02,  7.48718996e-03, -7.22173899e-02, -6.92116562e-03,\n",
       "         5.01263626e-02,  6.53240690e-03,  2.68999580e-02, -1.90094411e-02,\n",
       "         4.90080081e-02, -2.43322011e-02, -4.64464277e-02, -2.28018928e-02,\n",
       "        -4.72667720e-03, -4.27221917e-02,  5.83726205e-02,  1.22514851e-02,\n",
       "         2.32299268e-02,  8.62414856e-03, -5.74058332e-02, -2.36806199e-02,\n",
       "        -1.97783988e-02,  1.11670196e-02,  1.01035126e-02, -2.47315802e-02,\n",
       "        -3.25220861e-02, -1.07639255e-02, -1.11213205e-02, -2.30653156e-02,\n",
       "         1.03930747e-02, -1.12550259e-02, -3.72777097e-02,  9.67793399e-04,\n",
       "         2.34986227e-02,  7.40027474e-03, -1.50991706e-02,  2.78164283e-03,\n",
       "        -8.59130546e-02,  3.49270515e-02, -7.18968511e-02, -3.58453281e-02,\n",
       "         4.47960272e-02,  9.71236906e-04,  2.44193468e-02, -2.62020566e-02,\n",
       "         3.30566615e-02,  2.79020555e-02,  2.37217750e-02,  5.14291367e-03,\n",
       "         3.13796848e-02, -2.39588395e-02,  8.43942910e-03, -3.34583893e-02,\n",
       "         1.96870901e-02, -6.84031695e-02,  7.50662573e-03,  8.30967203e-02,\n",
       "         4.56307679e-02, -5.47870360e-02, -1.96933001e-02,  5.04814088e-03,\n",
       "        -2.17721108e-02, -1.44769950e-02, -1.85649246e-02,  1.34521434e-02,\n",
       "         5.06889522e-02,  1.67892240e-02, -2.16979571e-02,  4.91601154e-02,\n",
       "        -4.45213914e-02,  3.85679416e-02, -3.74340266e-03, -1.58000439e-02,\n",
       "         1.24160340e-02,  3.73616070e-02,  8.21038708e-03,  1.96655709e-02,\n",
       "        -1.15754073e-02,  1.03859575e-02, -3.30032897e-03, -1.40072927e-02,\n",
       "        -1.29231792e-02,  9.65326205e-02, -8.92363116e-03, -1.06533626e-02,\n",
       "        -5.27661201e-03, -4.14930098e-03,  7.18531944e-03,  4.55770222e-03,\n",
       "        -1.59052145e-02, -9.09333602e-02,  9.33015067e-03,  6.02211729e-02,\n",
       "        -4.33250666e-02, -3.60681862e-02, -2.98652574e-02,  4.20800894e-02,\n",
       "        -2.37425324e-02,  2.97030108e-03,  1.46514166e-03,  1.30786300e-02,\n",
       "        -1.24096926e-02, -1.59449503e-02, -1.31603638e-02,  5.05714025e-03,\n",
       "        -2.85647362e-02, -1.19885253e-02,  2.77982019e-02, -6.10697223e-03,\n",
       "        -2.65935678e-02, -1.45399058e-02,  7.09850062e-03,  3.34532075e-02,\n",
       "        -2.83901021e-02,  3.75544699e-03,  8.07379279e-03,  1.49338357e-02,\n",
       "        -1.30903274e-02, -2.73126177e-02,  5.60479574e-02,  2.27869898e-02,\n",
       "         5.41249961e-02,  1.01668462e-02, -2.00757571e-02, -2.16454230e-02,\n",
       "         3.95555198e-02,  5.31328432e-02,  6.30762875e-02, -1.65244583e-02,\n",
       "        -1.99099462e-02, -1.91742089e-02, -2.23194305e-02, -6.67751650e-04,\n",
       "         3.05638798e-02, -1.65715534e-02, -1.05475700e-02,  2.16639005e-02,\n",
       "        -7.21651688e-02, -2.93445289e-02, -1.47245983e-02,  2.89519876e-02,\n",
       "        -3.95837538e-02,  2.76266821e-02,  2.22957190e-02, -5.55909844e-03,\n",
       "         1.21752862e-02,  1.01076849e-02, -1.56283621e-02,  3.99836339e-02,\n",
       "         1.62092708e-02,  5.06256968e-02, -3.97178940e-02,  1.82484407e-02,\n",
       "         4.17931415e-02, -5.14992774e-02,  4.65263240e-02, -1.31692281e-02,\n",
       "         6.53508538e-03, -1.59189235e-02, -5.71004599e-02,  5.40855639e-02,\n",
       "         1.92117747e-02, -8.74023326e-03, -5.08962832e-02,  3.21902148e-03,\n",
       "        -2.54722368e-02, -1.30020659e-02,  1.92064196e-02,  4.47103530e-02,\n",
       "         6.33967966e-02,  4.42844220e-02, -1.00398464e-02,  3.21533382e-02,\n",
       "         5.83116710e-02, -3.72752920e-02, -9.34345573e-02, -8.35365281e-02,\n",
       "         1.44617567e-02,  8.29696073e-04,  8.72386899e-03, -4.38525481e-03,\n",
       "        -2.81316787e-02,  7.22715631e-02, -8.00779834e-02, -1.38370261e-01,\n",
       "         8.35883059e-03,  5.06229419e-03,  2.62933988e-02,  1.97168328e-02,\n",
       "        -8.86391010e-03, -5.18664857e-03,  3.05346791e-02, -2.27623843e-02,\n",
       "         1.33852037e-02, -1.05443694e-01,  8.44561029e-03, -2.01848783e-02,\n",
       "        -5.46997152e-02, -1.53583577e-02,  3.70996771e-03, -4.09045704e-02,\n",
       "         3.32218558e-02,  2.08556317e-02,  1.01655247e-02,  2.36391067e-03,\n",
       "         8.84629413e-02,  5.51333949e-02,  1.73007715e-02,  5.14780581e-02,\n",
       "         3.65523025e-02,  1.63530484e-02, -7.75439516e-02,  3.31335738e-02,\n",
       "         3.15436497e-02, -9.84406937e-03,  1.91528036e-03,  4.28415835e-02,\n",
       "         4.42718761e-03, -3.54674868e-02,  1.56430006e-02,  7.33147608e-03,\n",
       "         3.65278833e-02,  1.07696457e-02,  1.92991085e-02,  3.05411927e-02,\n",
       "        -2.05381420e-02,  7.23693520e-02,  2.48835701e-02,  2.82119326e-02,\n",
       "         7.41929887e-03,  9.90124419e-02, -4.49040867e-02, -2.62795985e-02,\n",
       "         4.14191596e-02, -4.40002140e-03,  1.00439759e-02,  3.46673504e-02,\n",
       "        -2.13022493e-02,  1.59424748e-02,  2.92547978e-02, -6.71872497e-03,\n",
       "        -1.53244073e-02,  2.04107240e-02,  4.21620570e-02,  1.03334025e-01,\n",
       "        -7.93017261e-03, -1.08436961e-03, -1.60370227e-02,  3.47445682e-02,\n",
       "         2.35026218e-02, -1.99701115e-02, -2.71537472e-02, -1.94845328e-04,\n",
       "         1.36183379e-02, -2.31782608e-02,  3.06326598e-02, -2.44879946e-02,\n",
       "         3.37834023e-02,  3.04092411e-02, -2.89651863e-02,  5.53451218e-02,\n",
       "         2.12415606e-02,  3.59993055e-02, -2.82946024e-02, -2.91883647e-02,\n",
       "        -1.12045836e-02, -4.34461161e-02, -1.56962927e-02,  2.63154227e-02,\n",
       "        -1.61299342e-03, -1.54650621e-02,  1.51638500e-02, -9.06931050e-03,\n",
       "        -6.63700476e-02,  5.00917137e-02,  1.24513414e-02,  7.16721127e-03,\n",
       "        -1.90548748e-02, -1.44180963e-02, -2.26151198e-02, -6.51898682e-02,\n",
       "        -6.61932956e-03,  2.37650494e-03, -4.99840034e-03,  6.99278414e-02,\n",
       "         2.29293909e-02, -8.63689056e-04,  1.67497881e-02, -3.55908461e-02,\n",
       "        -1.01406328e-01, -3.55107374e-02, -1.69564635e-02, -2.35113967e-02,\n",
       "         1.46412188e-02,  9.30980667e-02, -1.71414558e-02, -2.25314274e-02,\n",
       "         6.19225204e-02, -5.06654866e-02, -1.96033921e-02, -5.33399396e-02,\n",
       "        -3.64106670e-02, -3.76136974e-02, -6.26616878e-04, -5.61937764e-33,\n",
       "         1.82953756e-02,  1.31250899e-02, -2.76935054e-03, -3.94655876e-02,\n",
       "        -7.53833428e-02,  5.19867018e-02,  4.77253506e-03,  5.15526906e-02,\n",
       "        -4.37638089e-02, -2.89707631e-02,  3.57296318e-02, -2.81684250e-02,\n",
       "        -1.17749590e-02,  1.69121418e-02,  7.34382719e-02,  1.86555143e-02,\n",
       "         3.61649767e-02,  1.37781817e-02,  2.73269471e-02, -5.02778625e-04,\n",
       "        -5.07030077e-02,  3.25932391e-02, -1.67807173e-02, -1.27214817e-02,\n",
       "        -6.53267791e-03, -4.09790091e-02, -1.47212520e-02, -4.06482704e-02,\n",
       "         1.24676181e-02,  8.90632719e-03,  6.86319638e-03, -4.50657383e-02,\n",
       "        -3.54889855e-02,  1.79201420e-02,  4.15845700e-02, -3.49837802e-02,\n",
       "         2.90136430e-02,  1.35220662e-02, -1.72708288e-03,  8.49656854e-03,\n",
       "         7.33987391e-02, -5.18567935e-02,  8.37352034e-03,  2.11686711e-03,\n",
       "        -4.60891649e-02, -1.51069369e-02, -6.36603683e-03, -1.00620538e-02,\n",
       "         6.18163124e-03,  9.35423747e-03, -2.75679957e-02,  1.74828842e-02,\n",
       "         4.13162038e-02,  5.17770760e-02, -1.98205486e-02, -1.24172503e-02,\n",
       "        -2.98977047e-02,  3.52458679e-03, -1.37443878e-02,  4.30065347e-03,\n",
       "        -3.85473557e-02,  6.86044479e-03, -2.86670309e-02,  5.39918207e-02,\n",
       "         2.60993224e-02, -1.74131840e-02,  1.14723910e-02,  5.08120982e-03,\n",
       "         1.87144056e-02,  3.92484330e-02, -3.66819575e-02,  2.82645952e-02,\n",
       "         4.21625488e-02,  3.90774868e-02,  3.95267233e-02,  6.98111765e-03,\n",
       "         3.20031717e-02, -1.07033141e-02,  6.71020821e-02,  5.20990230e-02,\n",
       "        -5.97664900e-02,  6.25531152e-02, -3.21235470e-02,  5.03218360e-03,\n",
       "        -2.54305881e-02, -1.08542275e-02,  6.58687390e-03, -7.55486786e-02,\n",
       "         2.00667307e-02, -2.49324515e-02,  1.95248220e-02, -3.25864647e-03,\n",
       "         4.12224866e-02, -6.80214958e-03, -2.48394925e-02, -2.58018747e-02,\n",
       "         6.53489819e-03,  5.53021468e-02, -1.08707119e-02, -7.85310194e-03,\n",
       "        -6.37846440e-02,  5.07847778e-02,  5.99212432e-03,  1.11332610e-02,\n",
       "        -6.93021640e-02, -3.23142819e-02, -1.41686248e-02, -6.15867376e-02,\n",
       "        -1.43280067e-02,  3.25080380e-03,  1.17144827e-03, -3.28215137e-02,\n",
       "         4.43188660e-03, -8.78419429e-02,  1.81334000e-02, -1.81095619e-02,\n",
       "         9.60710458e-03,  3.73308361e-02, -1.82007179e-02, -7.04120696e-02,\n",
       "         3.46101262e-02,  3.15427035e-02,  2.38937438e-02, -1.40512651e-02,\n",
       "        -1.94235854e-02, -4.88509983e-02,  2.23871339e-02,  1.91778056e-02,\n",
       "        -2.94479970e-02, -3.09999846e-03, -2.11353935e-02,  9.81649291e-03,\n",
       "         2.72986938e-07, -6.64710626e-03, -3.33622508e-02, -5.06400764e-02,\n",
       "        -1.79803204e-02, -3.13183330e-02,  2.78255809e-02,  1.96233857e-02,\n",
       "         3.59856710e-02,  1.82858221e-02, -1.78304203e-02,  1.08165806e-02,\n",
       "         1.35624306e-02,  1.17478278e-02, -3.17367688e-02, -2.33460963e-03,\n",
       "        -3.10099497e-02,  4.42514010e-02, -1.78716723e-02, -4.67862114e-02,\n",
       "         1.35550993e-02,  3.63503769e-02, -2.92376261e-02,  2.04750225e-02,\n",
       "         3.90481576e-02, -4.19669487e-02,  1.10101644e-02,  1.38447043e-02,\n",
       "         2.97382846e-02, -1.19610094e-02, -5.63079640e-02,  2.65458524e-02,\n",
       "        -9.72738862e-03, -2.85886414e-02, -3.59127969e-02, -1.33337546e-02,\n",
       "        -4.30311635e-02,  5.52337058e-02,  5.47245964e-02, -6.38860604e-03,\n",
       "         2.67103091e-02, -1.46792019e-02,  8.61968622e-02,  2.33162791e-02,\n",
       "        -1.38629312e-02,  1.13643911e-02,  6.33797720e-02,  1.73474792e-02,\n",
       "        -2.49213856e-02, -1.20205231e-01,  7.66867623e-02, -4.74400409e-02,\n",
       "         1.18024163e-02, -2.84639411e-02,  5.16578592e-02, -3.13770678e-03,\n",
       "         4.03450131e-02,  2.30881963e-02, -2.12526023e-02,  3.64061408e-02,\n",
       "         3.60163860e-03, -3.82360443e-02,  9.17312652e-02,  5.37871271e-02,\n",
       "        -8.70565964e-06,  1.03325723e-02, -1.27257882e-02, -8.39144457e-03,\n",
       "         2.29577835e-34, -3.23199853e-02, -9.44046956e-03,  8.75105187e-02,\n",
       "         4.81332419e-03, -1.90384500e-02,  3.34794261e-02, -2.39723045e-02,\n",
       "         4.06464674e-02,  1.22875441e-02,  2.15761662e-02,  7.88570940e-03],\n",
       "       dtype=float32)}"
      ]
     },
     "execution_count": 6,
     "metadata": {},
     "output_type": "execute_result"
    }
   ],
   "source": [
    "full_data[0]"
   ]
  },
  {
   "cell_type": "code",
   "execution_count": null,
   "id": "16bc9ead",
   "metadata": {},
   "outputs": [],
   "source": [
    "# INDEX_NAME = INDEX_NAME+\"_1\"\n",
    "from src.elasticsearch_helper import ES_HELPER\n",
    "es_helper = ES_HELPER()\n",
    "if not es_helper.is_index_exists(INDEX_NAME):\n",
    "    es_helper.create_index(INDEX_NAME)\n",
    "es_helper.update_data(data=full_data, index_name=INDEX_NAME)"
   ]
  },
  {
   "cell_type": "code",
   "execution_count": null,
   "id": "9616e635",
   "metadata": {},
   "outputs": [],
   "source": [
    "# es_helper._delete_index(INDEX_NAME)"
   ]
  },
  {
   "cell_type": "markdown",
   "id": "27f2994c",
   "metadata": {},
   "source": [
    "## Search on python"
   ]
  },
  {
   "cell_type": "code",
   "execution_count": null,
   "id": "c37fcadf",
   "metadata": {},
   "outputs": [],
   "source": [
    "\"\"\"\n",
    "GET /nike_product/_search\n",
    "{\n",
    "  \"_source\": [\"product_id\",\"title\",\"subtitle\",\"product_description\"],\n",
    "  \"query\": {\n",
    "    \"term\": {\n",
    "      \"product_id\": \"C0UZQQIYM7\"\n",
    "    }\n",
    "  }\n",
    "}\n",
    "\n",
    "\"\"\"\n",
    "resp = es_helper.client.search(\n",
    "    index=\"nike_product\",\n",
    "    _source=[\"product_id\", \"title\", \"subtitle\", \"product_description\"],\n",
    "    query={\n",
    "        \"term\": {\n",
    "            \"product_id\": \"C0UZQQIYM7\"\n",
    "        }\n",
    "    }\n",
    ")\n",
    "print(resp)\n"
   ]
  },
  {
   "cell_type": "code",
   "execution_count": null,
   "id": "c0a2e0b8",
   "metadata": {},
   "outputs": [],
   "source": [
    "resp = es_helper.client.search(\n",
    "    index=\"nike_product\",\n",
    "    _source=[\"product_id\", \"title\", \"subtitle\", \"product_description\"],\n",
    "    query={\n",
    "        \"multi_match\": {\n",
    "            \"query\": \"running shoes female\",\n",
    "            \"fields\": [\"title^3\", \"subtitle^2\", \"product_description\"],\n",
    "            \"analyzer\": \"custom_analyzer\"\n",
    "        }\n",
    "    },\n",
    "    size=3,)\n",
    "\n",
    "print(resp)\n"
   ]
  },
  {
   "cell_type": "markdown",
   "id": "f0f73369",
   "metadata": {},
   "source": [
    "# Vector search similarity search + KNN"
   ]
  },
  {
   "cell_type": "markdown",
   "id": "9cdab8e6",
   "metadata": {},
   "source": []
  },
  {
   "cell_type": "code",
   "execution_count": null,
   "id": "1b5ce861",
   "metadata": {},
   "outputs": [],
   "source": [
    "input_text = \"running shoes female\"\n",
    "embedded_question = embedding_model.encode(input_text)\n",
    "\n",
    "query_element = {\n",
    "    \"bool\": {\n",
    "        \"should\": [\n",
    "            {\n",
    "                \"script_score\": {\n",
    "                    \"query\": {\"match_all\": {}},\n",
    "                    \"script\": {\n",
    "                        \"source\": \"\"\"\n",
    "                        double score = cosineSimilarity(params.query_vector, 'embedded_product_description') + 1.0;\n",
    "                        return score;\n",
    "                        \"\"\",\n",
    "                        \"params\": {\"query_vector\": embedded_question},\n",
    "                    },\n",
    "                }\n",
    "            },\n",
    "            {\"match\": {\"title\": {\"query\": input_text, \"boost\": 1.0}}},\n",
    "            # {\n",
    "            #         \"multi_match\": {\n",
    "            #             \"query\": input_text,\n",
    "            #             \"fields\": [\n",
    "            #                 \"title^3\",\n",
    "            #                 # \"content\"\n",
    "            #             ],\n",
    "            #             \"minimum_should_match\": \"1\"\n",
    "            #         }\n",
    "            #     }\n",
    "        ],\n",
    "        \"minimum_should_match\": 1,\n",
    "    }\n",
    "}\n",
    "\n",
    "min_score = 0\n",
    "result = es_helper.client.search(\n",
    "    index=INDEX_NAME,\n",
    "    query=query_element,\n",
    "    _source=[\"product_id\", \"title\", \"subtitle\", \"product_description\"],\n",
    "    min_score=0.5,\n",
    "    size=10,\n",
    "    request_cache=True,\n",
    "    track_scores=True,\n",
    "    explain=False,\n",
    ")"
   ]
  },
  {
   "cell_type": "code",
   "execution_count": null,
   "id": "781d9d2c",
   "metadata": {},
   "outputs": [],
   "source": [
    "print(result)"
   ]
  },
  {
   "cell_type": "markdown",
   "id": "4ea7d728",
   "metadata": {},
   "source": [
    "# Enterprise version\n",
    "\n",
    "- Hosting vectorize model + ingest pipeline to facilitate the process, [documentation](https://www.elastic.co/docs/explore-analyze/machine-learning/nlp/ml-nlp-text-emb-vector-search-example)"
   ]
  },
  {
   "cell_type": "markdown",
   "id": "278c5f23",
   "metadata": {},
   "source": [
    "# Professional common update use case, set up alias vs how to acheive this in databricks\n",
    "\n",
    "Hourly update on the index, and full update on weekly bases and setup alias\n",
    "\n"
   ]
  },
  {
   "cell_type": "markdown",
   "id": "609f3287",
   "metadata": {},
   "source": [
    "### Alias on ElasticSearch"
   ]
  },
  {
   "cell_type": "code",
   "execution_count": null,
   "id": "9fac3b5f",
   "metadata": {},
   "outputs": [],
   "source": [
    "alias_name = \"nike_product_alias\"\n",
    "# INDEX_NAME = \"nike_product\""
   ]
  },
  {
   "cell_type": "code",
   "execution_count": null,
   "id": "61a37660",
   "metadata": {},
   "outputs": [],
   "source": [
    "es_helper.client.indices.update_aliases(actions=[{\"add\": {\"index\": INDEX_NAME, \"alias\": alias_name}}])"
   ]
  },
  {
   "cell_type": "code",
   "execution_count": null,
   "id": "b4c09ade",
   "metadata": {},
   "outputs": [],
   "source": [
    "es_helper.client.indices.get_alias(name=alias_name)"
   ]
  },
  {
   "cell_type": "code",
   "execution_count": null,
   "id": "9c698670",
   "metadata": {},
   "outputs": [],
   "source": [
    "\"\"\"\n",
    "POST _aliases\n",
    "{\n",
    "  \"actions\": [\n",
    "    {\n",
    "      \"remove\": {\n",
    "        \"index\": \"index1\",\n",
    "        \"alias\": \"logs-non-existing\"\n",
    "      }\n",
    "    },\n",
    "    {\n",
    "      \"add\": {\n",
    "        \"index\": \"index2\",\n",
    "        \"alias\": \"logs-non-existing\"\n",
    "      }\n",
    "    }\n",
    "  ]\n",
    "}\n",
    "\"\"\"\n",
    "# example code \n",
    "def redirect_alias(\n",
    "    alias_name: str, index_name: str\n",
    ") -> None:\n",
    "    aliased_indices = {}\n",
    "    try:\n",
    "        aliased_indices = es_helper.client.indices.get_alias(name=alias_name)\n",
    "    except:\n",
    "        pass\n",
    "    remove_actions = [\n",
    "        {\"remove\": {\"index\": alias, \"alias\": alias_name}}\n",
    "        for alias in aliased_indices.keys()\n",
    "    ]\n",
    "    add_actions = [{\"add\": {\"index\": index_name, \"alias\": alias_name}}]\n",
    "    actions = remove_actions + add_actions\n",
    "    res = es_helper.client.indices.update_aliases(actions=actions)\n",
    "    print(res)"
   ]
  },
  {
   "cell_type": "code",
   "execution_count": null,
   "id": "012e3fc3",
   "metadata": {},
   "outputs": [],
   "source": [
    "redirect_alias(alias_name, \"nike_product\")"
   ]
  },
  {
   "cell_type": "code",
   "execution_count": null,
   "id": "925a7e9c",
   "metadata": {},
   "outputs": [],
   "source": [
    "es_helper.client.indices.get_alias(name=alias_name)"
   ]
  },
  {
   "cell_type": "code",
   "execution_count": null,
   "id": "e4433ec5",
   "metadata": {},
   "outputs": [],
   "source": [
    "es_helper.client.search(\n",
    "    index=alias_name,#INDEX_NAME,\n",
    "    query=query_element,\n",
    "    _source=[\"product_id\", \"title\", \"subtitle\", \"product_description\"],\n",
    "    min_score=0.5,\n",
    "    size=10,\n",
    "    request_cache=True,\n",
    "    track_scores=True,\n",
    "    explain=False,\n",
    ")"
   ]
  },
  {
   "cell_type": "markdown",
   "id": "8f15e8de",
   "metadata": {},
   "source": [
    "### Alias concept on Databricks\n",
    "\n",
    "why is it important, versioning for rollback and if we are going to update many documents at once we can experience delays or increased latency during the sync. So when we do a large sync it's better to perform alias concept.\n",
    "\n",
    "* upsert data it doesn't block the production same as elastic search\n",
    "* we can also create a new index but here we need to redirect the search to use the new end points\n",
    "    1. Create a table metadata, logging the latest index\n",
    "    2. upsert the data to the source table\n",
    "    3. create a new index to sync the index\n",
    "    4. once the sync is done update in the metadatatable\n",
    "    5. when calling we query to get the latest completed index from the metadatatable (so the program to call the index search no need to change)\n",
    "\n"
   ]
  },
  {
   "cell_type": "markdown",
   "id": "655e9b32",
   "metadata": {},
   "source": [
    "# (Optional) if time available, how to perform hybrid search\n",
    "\n",
    "https://www.databricks.com/blog/announcing-hybrid-search-general-availability-mosaic-ai-vector-search"
   ]
  },
  {
   "cell_type": "markdown",
   "id": "eeabf899",
   "metadata": {},
   "source": []
  }
 ],
 "metadata": {
  "kernelspec": {
   "display_name": "Python 3",
   "language": "python",
   "name": "python3"
  },
  "language_info": {
   "codemirror_mode": {
    "name": "ipython",
    "version": 3
   },
   "file_extension": ".py",
   "mimetype": "text/x-python",
   "name": "python",
   "nbconvert_exporter": "python",
   "pygments_lexer": "ipython3",
   "version": "3.11.13"
  }
 },
 "nbformat": 4,
 "nbformat_minor": 5
}

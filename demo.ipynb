{
 "cells": [
  {
   "cell_type": "code",
   "execution_count": 1,
   "id": "1d03f066",
   "metadata": {},
   "outputs": [],
   "source": [
    "\n",
    "import pandas as pd\n",
    "from settings import INPUT_DATA_PATH, EMBEDDING_MODEL, INDEX_NAME\n",
    "from src.logs import logger\n",
    "df = pd.read_csv(INPUT_DATA_PATH)\n"
   ]
  },
  {
   "cell_type": "code",
   "execution_count": 2,
   "id": "baab4207",
   "metadata": {},
   "outputs": [
    {
     "name": "stderr",
     "output_type": "stream",
     "text": [
      "/opt/homebrew/lib/python3.11/site-packages/tqdm/auto.py:21: TqdmWarning: IProgress not found. Please update jupyter and ipywidgets. See https://ipywidgets.readthedocs.io/en/stable/user_install.html\n",
      "  from .autonotebook import tqdm as notebook_tqdm\n"
     ]
    }
   ],
   "source": [
    "from sentence_transformers import SentenceTransformer\n",
    "\n",
    "embedding_model = SentenceTransformer(EMBEDDING_MODEL)"
   ]
  },
  {
   "cell_type": "markdown",
   "id": "29cc843e",
   "metadata": {},
   "source": [
    "# Building index\n",
    "\n",
    "1. settings / mappings\n",
    "2. ingest data code\n",
    "3. synonyms: add volumn to docker file\n",
    "4. show UI index management -> explorer to see the documents\n",
    "5. Query on UI: normal query, synonyms\n",
    "6. Query on python: normal query, terms id, multi search, vector search\n",
    "\n",
    "##### update policy\n",
    "##### alias"
   ]
  },
  {
   "cell_type": "code",
   "execution_count": 3,
   "id": "8beb5ca7",
   "metadata": {},
   "outputs": [
    {
     "name": "stderr",
     "output_type": "stream",
     "text": [
      "[nltk_data] Downloading package punkt_tab to\n",
      "[nltk_data]     /Users/yuhsuanting/nltk_data...\n",
      "[nltk_data]   Unzipping tokenizers/punkt_tab.zip.\n",
      "[nltk_data] Downloading package stopwords to\n",
      "[nltk_data]     /Users/yuhsuanting/nltk_data...\n",
      "[nltk_data]   Package stopwords is already up-to-date!\n",
      "[nltk_data] Downloading package wordnet to\n",
      "[nltk_data]     /Users/yuhsuanting/nltk_data...\n",
      "[nltk_data]   Package wordnet is already up-to-date!\n"
     ]
    }
   ],
   "source": [
    "# %reload_ext autoreload\n",
    "# %autoreload 2\n",
    "from src.utils import split_data_chunk"
   ]
  },
  {
   "cell_type": "code",
   "execution_count": 4,
   "id": "464aa8e7",
   "metadata": {},
   "outputs": [
    {
     "name": "stderr",
     "output_type": "stream",
     "text": [
      "huggingface/tokenizers: The current process just got forked, after parallelism has already been used. Disabling parallelism to avoid deadlocks...\n",
      "To disable this warning, you can either:\n",
      "\t- Avoid using `tokenizers` before the fork if possible\n",
      "\t- Explicitly set the environment variable TOKENIZERS_PARALLELISM=(true | false)\n"
     ]
    }
   ],
   "source": [
    "full_data = []\n",
    "for index, row in df.iterrows():\n",
    "    current_batch = split_data_chunk(embedding_model=embedding_model,row_data=row)\n",
    "    full_data.extend(current_batch)"
   ]
  },
  {
   "cell_type": "code",
   "execution_count": 5,
   "id": "7de520d5",
   "metadata": {},
   "outputs": [
    {
     "data": {
      "text/plain": [
       "400"
      ]
     },
     "execution_count": 5,
     "metadata": {},
     "output_type": "execute_result"
    }
   ],
   "source": [
    "len(full_data)"
   ]
  },
  {
   "cell_type": "code",
   "execution_count": 9,
   "id": "16bc9ead",
   "metadata": {},
   "outputs": [
    {
     "name": "stderr",
     "output_type": "stream",
     "text": [
      "2025-07-03 15:37:19,472 ES_DEMO INFO https://localhost:9200\n"
     ]
    }
   ],
   "source": [
    "from src.elasticsearch_helper import ES_HELPER\n",
    "es_helper = ES_HELPER()\n",
    "if not es_helper.is_index_exists(INDEX_NAME):\n",
    "    es_helper.create_index(INDEX_NAME)\n",
    "es_helper.update_data(data=full_data, index_name=INDEX_NAME)"
   ]
  },
  {
   "cell_type": "code",
   "execution_count": null,
   "id": "9616e635",
   "metadata": {},
   "outputs": [
    {
     "name": "stderr",
     "output_type": "stream",
     "text": [
      "2025-07-03 15:36:27,067 ES_DEMO INFO index nike_product deleted\n"
     ]
    },
    {
     "data": {
      "text/plain": [
       "ObjectApiResponse({'acknowledged': True})"
      ]
     },
     "execution_count": 7,
     "metadata": {},
     "output_type": "execute_result"
    }
   ],
   "source": [
    "# es_helper._delete_index(INDEX_NAME)"
   ]
  },
  {
   "cell_type": "markdown",
   "id": "27f2994c",
   "metadata": {},
   "source": [
    "## Search on python"
   ]
  },
  {
   "cell_type": "code",
   "execution_count": null,
   "id": "c37fcadf",
   "metadata": {},
   "outputs": [
    {
     "name": "stdout",
     "output_type": "stream",
     "text": [
      "{'took': 20, 'timed_out': False, '_shards': {'total': 1, 'successful': 1, 'skipped': 0, 'failed': 0}, 'hits': {'total': {'value': 1, 'relation': 'eq'}, 'max_score': 5.588496, 'hits': [{'_index': 'nike_product', '_id': 'C0UZQQIYM7_1', '_score': 5.588496, '_source': {'product_description': \"Nike Air Force 1 '07 part 1: doesnt get legendary designed turn head nike air force 1 07 cross hardwood comfort offcourt flair crisp leather upper look sleek fresh lustrous swoosh logo give almost iridescent look add perfect amount flash make shine consider slam dunk\", 'title': \"Nike Air Force 1 '07\", 'subtitle': \"Men's Shoes\", 'product_id': 'C0UZQQIYM7'}}]}}\n"
     ]
    }
   ],
   "source": [
    "\"\"\"\n",
    "GET /nike_product/_search\n",
    "{\n",
    "  \"_source\": [\"product_id\",\"title\",\"subtitle\",\"product_description\"],\n",
    "  \"query\": {\n",
    "    \"term\": {\n",
    "      \"product_id\": \"C0UZQQIYM7\"\n",
    "    }\n",
    "  }\n",
    "}\n",
    "\n",
    "\"\"\"\n",
    "resp = es_helper.client.search(\n",
    "    index=\"nike_product\",\n",
    "    _source=[\"product_id\", \"title\", \"subtitle\", \"product_description\"],\n",
    "    query={\n",
    "        \"term\": {\n",
    "            \"product_id\": \"C0UZQQIYM7\"\n",
    "        }\n",
    "    }\n",
    ")\n",
    "print(resp)\n"
   ]
  },
  {
   "cell_type": "code",
   "execution_count": 16,
   "id": "c0a2e0b8",
   "metadata": {},
   "outputs": [
    {
     "name": "stdout",
     "output_type": "stream",
     "text": [
      "{'took': 70, 'timed_out': False, '_shards': {'total': 1, 'successful': 1, 'skipped': 0, 'failed': 0}, 'hits': {'total': {'value': 224, 'relation': 'eq'}, 'max_score': 12.409704, 'hits': [{'_index': 'nike_product', '_id': 'SJ4Z8YKC02_1', '_score': 12.409704, '_source': {'product_description': \"Jordan Women's Paris Collective x LALA &ce part 1: check expectation redefine style collab tee parisian musical artist lala ce embroidered messaging sleeve speaks experience black woman symbolic graphic back showcase strength soft durable cotton slightly baggy fit comfort get going ease\", 'title': \"Jordan Women's Paris Collective x LALA &ce\", 'subtitle': \"Women's T-Shirt\", 'product_id': 'SJ4Z8YKC02'}}, {'_index': 'nike_product', '_id': 'GGVJVI89ZW_1', '_score': 8.968395, '_source': {'product_description': 'Nike React Infinity 3 part 1: stay foot soft supportive cushioning built help keep run wider forefoot higher foam stack help shield recurring attrition giving peace mind pound pavement every day springy responsiveness surprise adding element pure speed 1 tested shoe help go longer faster ever', 'title': 'Nike React Infinity 3', 'subtitle': \"Women's Road Running Shoes\", 'product_id': 'GGVJVI89ZW'}}, {'_index': 'nike_product', '_id': 'H80PFARPXR_1', '_score': 8.968395, '_source': {'product_description': 'Nike Winflo 9 Premium part 1: featuring balanced ride help kickstart run winflo 9 give support need match speed secure fit help keep foot place mile go added plenty foam midsole giving extra pep every step load favourite tune musically themed design lace lock win goal', 'title': 'Nike Winflo 9 Premium', 'subtitle': \"Women's Road Running Shoes\", 'product_id': 'H80PFARPXR'}}]}}\n"
     ]
    }
   ],
   "source": [
    "resp = es_helper.client.search(\n",
    "    index=\"nike_product\",\n",
    "    _source=[\"product_id\", \"title\", \"subtitle\", \"product_description\"],\n",
    "    query={\n",
    "        \"multi_match\": {\n",
    "            \"query\": \"running shoes female\",\n",
    "            \"fields\": [\"title^3\", \"subtitle^2\", \"product_description\"],\n",
    "            \"analyzer\": \"custom_analyzer\"\n",
    "        }\n",
    "    },\n",
    "    size=3,)\n",
    "\n",
    "print(resp)\n"
   ]
  },
  {
   "cell_type": "markdown",
   "id": "f0f73369",
   "metadata": {},
   "source": [
    "# Vector search similarity search + KNN"
   ]
  },
  {
   "cell_type": "markdown",
   "id": "9cdab8e6",
   "metadata": {},
   "source": []
  },
  {
   "cell_type": "code",
   "execution_count": null,
   "id": "1b5ce861",
   "metadata": {},
   "outputs": [],
   "source": [
    "input_text = \"running shoes female\"\n",
    "\n",
    "query_element = {\n",
    "    \"bool\": {\n",
    "        \"should\": [\n",
    "            {\n",
    "                \"script_score\": {\n",
    "                    \"query\": {\"match_all\": {}},\n",
    "                    \"script\": {\n",
    "                        \"source\": \"\"\"\n",
    "                        double score = cosineSimilarity(params.query_vector, 'embedded_content') + 1.0;\n",
    "                        return score;\n",
    "                        \"\"\",\n",
    "                        \"params\": {\"query_vector\": embedded_question},\n",
    "                    },\n",
    "                }\n",
    "            },\n",
    "            {\"match\": {\"title\": {\"query\": input_text, \"boost\": 1.0}}},\n",
    "            # {\n",
    "            #         \"multi_match\": {\n",
    "            #             \"query\": input_text,\n",
    "            #             \"fields\": [\n",
    "            #                 \"title^3\",\n",
    "            #                 # \"content\"\n",
    "            #             ],\n",
    "            #             \"minimum_should_match\": \"1\"\n",
    "            #         }\n",
    "            #     }\n",
    "        ],\n",
    "        \"minimum_should_match\": 1,\n",
    "    }\n",
    "}\n",
    "\n",
    "min_score = 0\n",
    "result = es_helper.client.search(\n",
    "    index=INDEX_NAME,\n",
    "    query=query_element,\n",
    "    _source=[\"product_id\", \"title\", \"subtitle\", \"product_description\"],\n",
    "    min_score=0.5,\n",
    "    size=10,\n",
    "    request_cache=True,\n",
    "    track_scores=True,\n",
    "    explain=False,\n",
    ")"
   ]
  },
  {
   "cell_type": "markdown",
   "id": "4ea7d728",
   "metadata": {},
   "source": [
    "# Enterprise version\n",
    "\n",
    "- Hosting vectorize model + ingest pipeline to facilitate the process"
   ]
  },
  {
   "cell_type": "code",
   "execution_count": null,
   "id": "278c5f23",
   "metadata": {},
   "outputs": [],
   "source": []
  }
 ],
 "metadata": {
  "kernelspec": {
   "display_name": "Python 3",
   "language": "python",
   "name": "python3"
  },
  "language_info": {
   "codemirror_mode": {
    "name": "ipython",
    "version": 3
   },
   "file_extension": ".py",
   "mimetype": "text/x-python",
   "name": "python",
   "nbconvert_exporter": "python",
   "pygments_lexer": "ipython3",
   "version": "3.11.13"
  }
 },
 "nbformat": 4,
 "nbformat_minor": 5
}
